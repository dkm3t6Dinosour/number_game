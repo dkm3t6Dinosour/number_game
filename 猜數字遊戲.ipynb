{
 "cells": [
  {
   "cell_type": "code",
   "execution_count": null,
   "id": "723b310f",
   "metadata": {},
   "outputs": [],
   "source": [
    "import random\n",
    "\n",
    "target_number=random.randint(1,100)\n",
    "my_number=int(input('請猜一個1到100之間的數字'))\n",
    "\n",
    "while True:\n",
    "    if target_number>my_number:\n",
    "        my_number=int(input('太小囉！再猜猜看'))\n",
    "    elif target_number<my_number:\n",
    "        my_number=int(input('太大囉！再猜猜看'))\n",
    "    else:\n",
    "        print('厲害耶！你猜到了呦!')\n",
    "        break\n",
    "    "
   ]
  },
  {
   "cell_type": "markdown",
   "id": "9940745b",
   "metadata": {},
   "source": []
  },
  {
   "cell_type": "code",
   "execution_count": null,
   "id": "43bed247",
   "metadata": {},
   "outputs": [],
   "source": []
  },
  {
   "cell_type": "code",
   "execution_count": null,
   "id": "8920f9b7",
   "metadata": {},
   "outputs": [],
   "source": []
  },
  {
   "cell_type": "code",
   "execution_count": null,
   "id": "a2ff9091",
   "metadata": {},
   "outputs": [],
   "source": []
  }
 ],
 "metadata": {
  "kernelspec": {
   "display_name": "Python 3 (ipykernel)",
   "language": "python",
   "name": "python3"
  },
  "language_info": {
   "codemirror_mode": {
    "name": "ipython",
    "version": 3
   },
   "file_extension": ".py",
   "mimetype": "text/x-python",
   "name": "python",
   "nbconvert_exporter": "python",
   "pygments_lexer": "ipython3",
   "version": "3.11.4"
  }
 },
 "nbformat": 4,
 "nbformat_minor": 5
}
